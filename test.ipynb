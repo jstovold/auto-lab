{
 "cells": [
  {
   "cell_type": "markdown",
   "metadata": {},
   "source": [
    "\n",
    "# Auto-generated lab sheets\n",
    "\n",
    "Below is an example of an auto-generated lab sheet for INT1. The code which generates the questions will be hosted \n",
    "online and exposed via an API so the students can check their answers before the solutions are released. Provided \n",
    "they have their question ID (which is just a random seed), then they can upload their solution along with their ID \n",
    "and the server will re-produce the tree from the ID and check it against my unit tests to determine the correct \n",
    "answer.\n",
    "\n"
   ]
  },
  {
   "cell_type": "markdown",
   "metadata": {},
   "source": [
    "\n",
    "Please ensure you make a note of the ID for this set of questions, as it is the only way to access the correct \n",
    "solutions. You can test your solution through the online portal available online: [http://www.cs.york.ac.uk/~jstovold/INT1/](http://www.cs.york.ac.uk/~jstovold/INT1/).\n",
    "\n",
    "Question set ID: 228357"
   ]
  },
  {
   "cell_type": "markdown",
   "metadata": {},
   "source": [
    "\n",
    "# Breadth-First Search\n",
    "Below is an auto-generated question on Breadth-First Search (BFS). Implement a function in Python that takes as \n",
    "arguments a dictionary of state : list(state) pairs (describing the tree) and the root of the tree and produces a \n",
    "list of which states are visited in which order when running BFS. For example, with the tree: "
   ]
  },
  {
   "cell_type": "code",
   "execution_count": null,
   "metadata": {},
   "outputs": [],
   "source": [
    "\n",
    "{ 'A' : ['B','C'], \n",
    "  'B' : ['D','E'], \n",
    "  'C' : ['F'], \n",
    "  'D' : [], \n",
    "  'E' : [], \n",
    "  'F' : [] \n",
    "} \n"
   ]
  },
  {
   "cell_type": "markdown",
   "metadata": {},
   "source": [
    "\n",
    "the function call bfs(tree, 'A') should return:"
   ]
  },
  {
   "cell_type": "code",
   "execution_count": null,
   "metadata": {},
   "outputs": [],
   "source": [
    "['A', 'B', 'C', 'D', 'E', 'F']"
   ]
  },
  {
   "cell_type": "markdown",
   "metadata": {},
   "source": [
    "\\clearpage{}"
   ]
  },
  {
   "cell_type": "code",
   "execution_count": null,
   "metadata": {},
   "outputs": [],
   "source": [
    "\n",
    "tree = { \n",
    " 'ltpf': ['jbpx',\n",
    "          'uvcd'],\n",
    " 'jbpx': ['msmc',\n",
    "          'fvsi'],\n",
    " 'msmc': [],\n",
    " 'fvsi': [],\n",
    " 'uvcd': ['faeu',\n",
    "          'pepr'],\n",
    " 'faeu': [],\n",
    " 'pepr': []} "
   ]
  }
 ],
 "metadata": {},
 "nbformat": 4,
 "nbformat_minor": 2
}
