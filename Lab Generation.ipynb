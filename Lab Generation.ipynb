{
 "cells": [
  {
   "cell_type": "code",
   "execution_count": 9,
   "metadata": {},
   "outputs": [],
   "source": [
    "import nbformat as nbf\n",
    "from nbconvert import PDFExporter\n",
    "import random\n",
    "import string\n",
    "\n",
    "# tweaked the prettyprint functionality in Python to stop it from sorting the dictionary when it prints\n",
    "import pprint_jhs\n"
   ]
  },
  {
   "cell_type": "code",
   "execution_count": 10,
   "metadata": {},
   "outputs": [],
   "source": [
    "nb = nbf.v4.new_notebook()\n",
    "\n",
    "titlePDF  = 'Intelligent Systems 1'\n",
    "datePDF   = 'Lab 2'\n",
    "authorPDF = 'Dr James Stovold'"
   ]
  },
  {
   "cell_type": "markdown",
   "metadata": {},
   "source": [
    "Your unit tests / random question generation code goes in the code chunk below. In this example I am recursively generating random trees for the students to run breadth-first search on, so I've also implemented a version of BFS to test against. "
   ]
  },
  {
   "cell_type": "code",
   "execution_count": 11,
   "metadata": {},
   "outputs": [],
   "source": [
    "def bfs(visited, graph, node):\n",
    "    queue = []\n",
    "    visited.append(node)\n",
    "    queue.append(node)\n",
    "\n",
    "    while queue:\n",
    "        s = queue.pop(0) \n",
    "        print (s, end = \" \") \n",
    "\n",
    "        for neighbour in graph[s]:\n",
    "            if neighbour not in visited:\n",
    "                visited.append(neighbour)\n",
    "                queue.append(neighbour)\n",
    "    \n",
    "    return visited\n",
    "\n",
    "def getRandomName(length = 4, exclude_list = []):\n",
    "    # return a random text string of length `length`\n",
    "    thisName = ''.join([random.choice(string.ascii_lowercase) for _ in range(length)])\n",
    "    while thisName in exclude_list:\n",
    "        thisName = ''.join([random.choice(string.ascii_lowercase) for _ in range(length)])\n",
    "    \n",
    "    return thisName\n",
    "    \n",
    "def mergeTrees(tree1, tree2, permitDuplicateNames = True):\n",
    "    \n",
    "    # go through the entire dictionary `tree2` and merge each element with the matching element in `tree1`\n",
    "    \n",
    "    for (k,v) in tree2.items():\n",
    "        if tree1.get(k) is None:\n",
    "            tree1.update([(k, v)])\n",
    "        else:\n",
    "            if permitDuplicateNames:\n",
    "                tree1[k].append(v)\n",
    "            else:\n",
    "                # need to rename k\n",
    "                name = getRandomName(len(k), tree1.keys())\n",
    "                tree1.update([(name, v)])\n",
    "    \n",
    "    return tree1\n",
    "                \n",
    "    \n",
    "    \n",
    "def getTree(ID, minDepth = 3, maxDepth = 3, \n",
    "                minBranch = 2, maxBranch = 3):\n",
    "    random.seed(ID)\n",
    "    return getTree_aux(ID, depth = random.randint(minDepth, maxDepth), \n",
    "                           branch = random.randint(minBranch, maxBranch))\n",
    "    \n",
    "    \n",
    "    \n",
    "def getTree_aux(ID, depth, branch):\n",
    "\n",
    "    if depth == 0:    # inequality isn't correct\n",
    "        return {}\n",
    "    \n",
    "    \n",
    "    # because we are recursing, we can assume this is the root of the tree:\n",
    "    name = getRandomName()\n",
    "    tree = {name : []}   # random name of node? if this is long enough then we *shouldn't* \n",
    "                         # get any duplicates, but these can be picked up during the unroll...\n",
    "    \n",
    "\n",
    "    \n",
    "    for b in range(branch):\n",
    "        t = getTree_aux(ID, depth - 1, branch)\n",
    "        # need to attach the new tree, rather than just merging it...\n",
    "        # is it enough to get the root of the branched trees and form those into the list for this tree? \n",
    "        tree = mergeTrees(ID, tree, t, permitDuplicateNames = False)\n",
    "        if len(list(t.keys())) > 0:\n",
    "            tree[name].append(list(t.keys())[0])\n",
    "    \n",
    "    return tree\n",
    "    \n",
    "    \n",
    "def checkCorrect(ID, answer):\n",
    "    \n",
    "    tree, node = getTree(ID)\n",
    "    \n",
    "    return (bfs([],tree, node) == answer)"
   ]
  },
  {
   "cell_type": "markdown",
   "metadata": {},
   "source": [
    "The following piece of code can be used to define standard question formats which are then altered to include randomly-generated sections via a placeholder (such as '%') and a function pointer. This is not a perfect implementation, but as a starting point can be useful when varying the text used to define questions."
   ]
  },
  {
   "cell_type": "code",
   "execution_count": 18,
   "metadata": {},
   "outputs": [],
   "source": [
    "def question(text, placeholder, func):\n",
    "    \n",
    "    # given some text for a question, replace the placeholders with randomly-produced output \n",
    "    # from the provided function \n",
    "    \n",
    "    # for each placeholder in text:\n",
    "    #   replace placeholder with func() output\n",
    "    new_text = ''\n",
    "    for word in text.split():\n",
    "        new_word = word\n",
    "        if word == placeholder:\n",
    "            new_word = func()\n",
    "        \n",
    "        new_text = new_text + ' ' + new_word\n",
    "    \n",
    "    return(new_text.lstrip())\n",
    "    \n",
    "\n",
    "    "
   ]
  },
  {
   "cell_type": "markdown",
   "metadata": {},
   "source": [
    "For example:"
   ]
  },
  {
   "cell_type": "code",
   "execution_count": 26,
   "metadata": {},
   "outputs": [
    {
     "name": "stdout",
     "output_type": "stream",
     "text": [
      "hello, my name is grac please call me jkyk\n",
      "hello, my name is rnfc please call me mtne\n",
      "hello, my name is tung please call me ztfx\n"
     ]
    }
   ],
   "source": [
    "print(question('hello, my name is % please call me %', '%', getRandomName))\n",
    "print(question('hello, my name is % please call me %', '%', getRandomName))\n",
    "print(question('hello, my name is % please call me %', '%', getRandomName))\n"
   ]
  },
  {
   "cell_type": "markdown",
   "metadata": {},
   "source": [
    "Below is the text and code chunks which are actually generated in the produced PDF. The aim is to have the same chunk of text at the top (question_id_text) which reminds them of the random seed used for to generate the PDF, and then underneath have the question itself. "
   ]
  },
  {
   "cell_type": "code",
   "execution_count": 152,
   "metadata": {},
   "outputs": [],
   "source": [
    "seed = random.randrange(1e6)\n",
    "\n",
    "intro_text = \"\"\"\n",
    "# Auto-generated lab sheets\n",
    "\n",
    "Below is an example of an auto-generated lab sheet for INT1. The code which generates the questions will be hosted \n",
    "online and exposed via an API so the students can check their answers before the solutions are released. Provided \n",
    "they have their question ID (which is just a random seed), then they can upload their solution along with their ID \n",
    "and the server will re-produce the tree from the ID and check it against my unit tests to determine the correct \n",
    "answer.\n",
    "\n",
    "\"\"\"\n",
    "\n",
    "question_id_text = \"\"\"\n",
    "Please ensure you make a note of the ID for this set of questions, as it is the only way to access the correct \n",
    "solutions. You can test your solution through the online portal available: [http://www.cs.york.ac.uk/~jstovold/INT1/](http://www.cs.york.ac.uk/~jstovold/INT1/).\n",
    "\n",
    "Question set ID: \"\"\" + str(seed)\n",
    "\n",
    "\n",
    "text = \"\"\"\n",
    "# Breadth-First Search\n",
    "Below is an auto-generated question on Breadth-First Search (BFS). Implement a function in Python that takes as \n",
    "arguments a dictionary of state : list(state) pairs (describing the tree) and the root of the tree and produces a \n",
    "list of which states are visited in which order when running BFS. For example, with the tree: \"\"\"\n",
    "\n",
    "tree_code = \"\"\"\n",
    "{ 'A' : ['B','C'], \n",
    "  'B' : ['D','E'], \n",
    "  'C' : ['F'], \n",
    "  'D' : [], \n",
    "  'E' : [], \n",
    "  'F' : [] \n",
    "} \n",
    "\"\"\"\n",
    "text2 = \"\"\"\n",
    "the function call bfs(tree, 'A') should return:\"\"\"\n",
    "\n",
    "tree_output = \"['A', 'B', 'C', 'D', 'E', 'F']\"\n",
    "\n",
    "p = pprint_jhs.PrettyPrinter(width=15)\n",
    "\n",
    "tree_code2 = \"\"\"\n",
    "tree = \"\"\" + p.pformat(getTree(seed)) + \"\"\" \"\"\"\n",
    "\n",
    "\n",
    "newpage_text = \"\"\"\\clearpage{}\"\"\"\n",
    "\n"
   ]
  },
  {
   "cell_type": "markdown",
   "metadata": {},
   "source": [
    "The next piece of code pulls the text / code chunks from above into a notebook and writes it to file 'test.ipynb' for testing. The 'nbf.write' isn't needed for PDF production, but if you want to produce a jupyter notebook instead then this would be how to do it."
   ]
  },
  {
   "cell_type": "code",
   "execution_count": 159,
   "metadata": {},
   "outputs": [],
   "source": [
    "nb['cells'] = [nbf.v4.new_markdown_cell(intro_text),\n",
    "               nbf.v4.new_markdown_cell(question_id_text),\n",
    "               nbf.v4.new_markdown_cell(text),\n",
    "               nbf.v4.new_code_cell(tree_code),\n",
    "               nbf.v4.new_markdown_cell(text2),\n",
    "               nbf.v4.new_code_cell(tree_output),\n",
    "               nbf.v4.new_markdown_cell(newpage_text),\n",
    "               nbf.v4.new_code_cell(tree_code2) ]\n",
    "nbf.write(nb, 'test.ipynb')\n"
   ]
  },
  {
   "cell_type": "markdown",
   "metadata": {},
   "source": [
    "This notebook is then exported to PDF via LaTeX:"
   ]
  },
  {
   "cell_type": "code",
   "execution_count": 154,
   "metadata": {},
   "outputs": [],
   "source": [
    "pdf_exporter = PDFExporter()\n",
    "(body, resources) = pdf_exporter.from_notebook_node(nb, resources={'metadata': {'name': titlePDF, \n",
    "                                                                                'date': datePDF , \n",
    "                                                                                'author': authorPDF }})\n"
   ]
  },
  {
   "cell_type": "code",
   "execution_count": 155,
   "metadata": {},
   "outputs": [],
   "source": [
    "f = open('temp.pdf', 'wb')\n",
    "f.write(body)\n",
    "f.close()"
   ]
  },
  {
   "cell_type": "code",
   "execution_count": null,
   "metadata": {},
   "outputs": [],
   "source": []
  }
 ],
 "metadata": {
  "kernelspec": {
   "display_name": "Python 3",
   "language": "python",
   "name": "python3"
  },
  "language_info": {
   "codemirror_mode": {
    "name": "ipython",
    "version": 3
   },
   "file_extension": ".py",
   "mimetype": "text/x-python",
   "name": "python",
   "nbconvert_exporter": "python",
   "pygments_lexer": "ipython3",
   "version": "3.7.4"
  }
 },
 "nbformat": 4,
 "nbformat_minor": 2
}
